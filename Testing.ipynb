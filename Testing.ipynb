{
 "cells": [
  {
   "cell_type": "code",
   "execution_count": 1,
   "metadata": {},
   "outputs": [
    {
     "name": "stderr",
     "output_type": "stream",
     "text": [
      "/Users/theodiamandis/anaconda3/envs/cs231n/lib/python3.6/site-packages/h5py/__init__.py:34: FutureWarning: Conversion of the second argument of issubdtype from `float` to `np.floating` is deprecated. In future, it will be treated as `np.float64 == np.dtype(float).type`.\n",
      "  from ._conv import register_converters as _register_converters\n",
      "Using TensorFlow backend.\n"
     ]
    }
   ],
   "source": [
    "from keras import applications\n",
    "from keras.preprocessing.image import ImageDataGenerator\n",
    "from keras import optimizers\n",
    "from keras.models import Sequential, Model \n",
    "from keras.layers import Dropout, Flatten, Dense, GlobalAveragePooling2D\n",
    "from keras import backend as k \n",
    "from keras.callbacks import ModelCheckpoint, LearningRateScheduler, TensorBoard, EarlyStopping\n",
    "from keras.layers import Dense, Activation\n",
    "from keras import regularizers\n",
    "import tensorflow as tf\n",
    "import keras as ke\n",
    "import matplotlib.pyplot as plt\n",
    "import numpy as np"
   ]
  },
  {
   "cell_type": "code",
   "execution_count": 2,
   "metadata": {},
   "outputs": [],
   "source": [
    "load_dir = \"assets/car-rocket-ship/imnet_nofc/VGG19/128x128/\"\n",
    "X_train = np.load(load_dir + 'X_train.npy')\n",
    "y_train = np.load(load_dir + 'y_train.npy')\n",
    "X_test = np.load(load_dir + 'X_test.npy')\n",
    "y_test = np.load(load_dir + 'y_test.npy')\n",
    "N_tr = X_train.shape[0]\n",
    "N_te = X_test.shape[0]\n",
    "X_train = X_train.reshape(N_tr,-1)\n",
    "X_test = X_test.reshape(N_te,-1)\n",
    "in_size = X_train.shape[1]"
   ]
  },
  {
   "cell_type": "code",
   "execution_count": 3,
   "metadata": {},
   "outputs": [],
   "source": [
    "reg=0.001\n",
    "if 0:\n",
    "    model = Sequential([\n",
    "        Dense(100,input_shape=(in_size,),kernel_regularizer=regularizers.l2(reg)),\n",
    "        Activation('relu'),\n",
    "        Dropout(0.3),\n",
    "        Dense(50,kernel_regularizer=regularizers.l2(reg)),\n",
    "        Activation('relu'),\n",
    "        Dropout(0.3),\n",
    "        Dense(3,kernel_regularizer=regularizers.l2(reg)),\n",
    "        Activation('softmax')\n",
    "        ])\n",
    "if 0:\n",
    "    model = Sequential([\n",
    "        Dense(3,input_shape=(in_size,),kernel_regularizer=regularizers.l2(0.001)),\n",
    "        Activation('softmax')\n",
    "        ])\n",
    "\n",
    "if 1:\n",
    "    model = Sequential([\n",
    "        #Dropout(0,input_shape=(in_size,)),\n",
    "        Dense(10,input_shape=(in_size,),kernel_regularizer=regularizers.l2(0.5)),\n",
    "        Activation('relu'),\n",
    "        Dense(3,kernel_regularizer=regularizers.l2(reg)),\n",
    "        Activation('softmax')\n",
    "        ])\n",
    "\n",
    "model.compile(loss = \"categorical_crossentropy\", optimizer = optimizers.SGD(lr=0.001, momentum=0.9), metrics=[\"accuracy\"])"
   ]
  },
  {
   "cell_type": "code",
   "execution_count": 4,
   "metadata": {},
   "outputs": [
    {
     "name": "stdout",
     "output_type": "stream",
     "text": [
      "Train on 600 samples, validate on 600 samples\n",
      "Epoch 1/15\n",
      " - 0s - loss: 10.9676 - acc: 0.3933 - val_loss: 10.6675 - val_acc: 0.3933\n",
      "Epoch 2/15\n",
      " - 0s - loss: 10.2586 - acc: 0.5400 - val_loss: 9.7721 - val_acc: 0.6417\n",
      "Epoch 3/15\n",
      " - 0s - loss: 9.3155 - acc: 0.6850 - val_loss: 8.8162 - val_acc: 0.7050\n",
      "Epoch 4/15\n",
      " - 0s - loss: 8.3727 - acc: 0.7467 - val_loss: 7.8598 - val_acc: 0.7450\n",
      "Epoch 5/15\n",
      " - 0s - loss: 7.4564 - acc: 0.7917 - val_loss: 7.0832 - val_acc: 0.6867\n",
      "Epoch 6/15\n",
      " - 0s - loss: 6.6474 - acc: 0.7817 - val_loss: 6.2036 - val_acc: 0.8433\n",
      "Epoch 7/15\n",
      " - 0s - loss: 5.8483 - acc: 0.8533 - val_loss: 5.5247 - val_acc: 0.8333\n",
      "Epoch 8/15\n",
      " - 0s - loss: 5.1980 - acc: 0.8617 - val_loss: 4.9279 - val_acc: 0.8250\n",
      "Epoch 9/15\n",
      " - 0s - loss: 4.5977 - acc: 0.8783 - val_loss: 4.3724 - val_acc: 0.8350\n",
      "Epoch 10/15\n",
      " - 0s - loss: 4.0824 - acc: 0.8783 - val_loss: 3.8883 - val_acc: 0.8533\n",
      "Epoch 11/15\n",
      " - 0s - loss: 3.6297 - acc: 0.8833 - val_loss: 3.4727 - val_acc: 0.8683\n",
      "Epoch 12/15\n",
      " - 0s - loss: 3.2418 - acc: 0.8850 - val_loss: 3.1446 - val_acc: 0.8283\n",
      "Epoch 13/15\n",
      " - 0s - loss: 2.8967 - acc: 0.8967 - val_loss: 2.7845 - val_acc: 0.8717\n",
      "Epoch 14/15\n",
      " - 0s - loss: 2.5899 - acc: 0.9083 - val_loss: 2.5338 - val_acc: 0.8367\n",
      "Epoch 15/15\n",
      " - 0s - loss: 2.3197 - acc: 0.9050 - val_loss: 2.2814 - val_acc: 0.8517\n"
     ]
    },
    {
     "data": {
      "image/png": "[encoded data removed]",
      "text/plain": [
       "<matplotlib.figure.Figure at 0x181d1f8f60>"
      ]
     },
     "metadata": {},
     "output_type": "display_data"
    }
   ],
   "source": [
    "# Train the model and plot training info\n",
    "\n",
    "hist = model.fit(X_train,y_train,\n",
    "    validation_data=(X_test,y_test),\n",
    "    batch_size = 100,\n",
    "    epochs=15,\n",
    "    verbose=2\n",
    "    )\n",
    "plt.plot(hist.history['acc'], label=\"train\")\n",
    "plt.plot(hist.history['val_acc'], label=\"val\")\n",
    "plt.xlabel(\"epoch\")\n",
    "plt.ylabel(\"accuracy\")\n",
    "plt.legend()\n",
    "plt.grid()\n",
    "plt.tight_layout()\n",
    "plt.show()"
   ]
  },
  {
   "cell_type": "code",
   "execution_count": 5,
   "metadata": {},
   "outputs": [],
   "source": [
    "def weights_grad(X,model):\n",
    "\tN = X.shape[0]\n",
    "\tM = model.output.shape[1]\n",
    "\tw = model.trainable_weights\n",
    "\tout = model.layers[-2].output \n",
    "\tgrads = []\n",
    "\tfor i in range(N): #iterate over the batch\n",
    "\t\tfor j in range(M): #iterate over class score\n",
    "\t\t\tgrads.append(k.gradients(out[i,j],w))\n",
    "\tsess = tf.InteractiveSession()\n",
    "\tsess.run(tf.global_variables_initializer())\n",
    "\tgrads_evaled = sess.run(grads,feed_dict={model.input:X})\n",
    "\t# grads_evaled is is an M*N list of the gradients of the weights.\n",
    "\t# each element of this list in another list, that will be something like\n",
    "\t# [W1_grad, b1_grad, W2_grad, b2_grad ...]\n",
    "\treturn grads_evaled"
   ]
  },
  {
   "cell_type": "code",
   "execution_count": null,
   "metadata": {},
   "outputs": [],
   "source": []
  }
 ],
 "metadata": {
  "kernelspec": {
   "display_name": "Python 3",
   "language": "python",
   "name": "python3"
  },
  "language_info": {
   "codemirror_mode": {
    "name": "ipython",
    "version": 3
   },
   "file_extension": ".py",
   "mimetype": "text/x-python",
   "name": "python",
   "nbconvert_exporter": "python",
   "pygments_lexer": "ipython3",
   "version": "3.6.4"
  }
 },
 "nbformat": 4,
 "nbformat_minor": 2
}
