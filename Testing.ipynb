{
 "cells": [
  {
   "cell_type": "code",
   "execution_count": 1,
   "metadata": {},
   "outputs": [
    {
     "name": "stderr",
     "output_type": "stream",
     "text": [
      "/Users/theodiamandis/anaconda3/envs/cs231n/lib/python3.6/site-packages/h5py/__init__.py:34: FutureWarning: Conversion of the second argument of issubdtype from `float` to `np.floating` is deprecated. In future, it will be treated as `np.float64 == np.dtype(float).type`.\n",
      "  from ._conv import register_converters as _register_converters\n",
      "Using TensorFlow backend.\n"
     ]
    }
   ],
   "source": [
    "from keras import applications\n",
    "from keras.preprocessing.image import ImageDataGenerator\n",
    "from keras import optimizers\n",
    "from keras.models import Sequential, Model \n",
    "from keras.layers import Dropout, Flatten, Dense, GlobalAveragePooling2D\n",
    "from keras import backend as k \n",
    "from keras.callbacks import ModelCheckpoint, LearningRateScheduler, TensorBoard, EarlyStopping\n",
    "from keras.layers import Dense, Activation\n",
    "from keras import regularizers\n",
    "from itertools import product\n",
    "import tensorflow as tf\n",
    "import keras as ke\n",
    "import matplotlib.pyplot as plt\n",
    "import numpy as np\n",
    "import cvxpy as cp"
   ]
  },
  {
   "cell_type": "code",
   "execution_count": 2,
   "metadata": {},
   "outputs": [],
   "source": [
    "load_dir = \"assets/car-rocket-ship/imnet_nofc/VGG19/128x128/\"\n",
    "X_train = np.load(load_dir + 'X_train.npy')\n",
    "y_train = np.load(load_dir + 'y_train.npy')\n",
    "X_test = np.load(load_dir + 'X_test.npy')\n",
    "y_test = np.load(load_dir + 'y_test.npy')\n",
    "N_tr = X_train.shape[0]\n",
    "N_te = X_test.shape[0]\n",
    "X_train = X_train.reshape(N_tr,-1)\n",
    "X_test = X_test.reshape(N_te,-1)\n",
    "in_size = X_train.shape[1]"
   ]
  },
  {
   "cell_type": "code",
   "execution_count": 3,
   "metadata": {},
   "outputs": [],
   "source": [
    "reg=0.001\n",
    "model_select = 2\n",
    "if model_select is 0:\n",
    "    model = Sequential([\n",
    "        Dense(100,input_shape=(in_size,),kernel_regularizer=regularizers.l2(reg)),\n",
    "        Activation('relu'),\n",
    "        Dropout(0.3),\n",
    "        Dense(50,kernel_regularizer=regularizers.l2(reg)),\n",
    "        Activation('relu'),\n",
    "        Dropout(0.3),\n",
    "        Dense(3,kernel_regularizer=regularizers.l2(reg)),\n",
    "        Activation('softmax')\n",
    "        ])\n",
    "if model_select is 1:\n",
    "    model = Sequential([\n",
    "        Dense(3,input_shape=(in_size,),kernel_regularizer=regularizers.l2(0.001)),\n",
    "        Activation('softmax')\n",
    "        ])\n",
    "\n",
    "if model_select is 2:\n",
    "    model = Sequential([\n",
    "        #Dropout(0,input_shape=(in_size,)),\n",
    "        Dense(10,input_shape=(in_size,),kernel_regularizer=regularizers.l2(0.5)),\n",
    "        Activation('relu'),\n",
    "        Dense(3,kernel_regularizer=regularizers.l2(reg)),\n",
    "        Activation('softmax')\n",
    "        ])\n",
    "\n",
    "model.compile(loss = \"categorical_crossentropy\", optimizer = optimizers.SGD(lr=0.001, momentum=0.9), metrics=[\"accuracy\"])"
   ]
  },
  {
   "cell_type": "code",
   "execution_count": 4,
   "metadata": {},
   "outputs": [
    {
     "name": "stdout",
     "output_type": "stream",
     "text": [
      "Train on 600 samples, validate on 600 samples\n",
      "Epoch 1/15\n",
      " - 0s - loss: 11.0026 - acc: 0.4033 - val_loss: 10.6485 - val_acc: 0.4933\n",
      "Epoch 2/15\n",
      " - 0s - loss: 10.2932 - acc: 0.5867 - val_loss: 9.7795 - val_acc: 0.6600\n",
      "Epoch 3/15\n",
      " - 0s - loss: 9.3278 - acc: 0.7350 - val_loss: 8.7766 - val_acc: 0.8000\n",
      "Epoch 4/15\n",
      " - 0s - loss: 8.3461 - acc: 0.8017 - val_loss: 7.8458 - val_acc: 0.8350\n",
      "Epoch 5/15\n",
      " - 0s - loss: 7.4232 - acc: 0.8483 - val_loss: 6.9798 - val_acc: 0.8083\n",
      "Epoch 6/15\n",
      " - 0s - loss: 6.5871 - acc: 0.8650 - val_loss: 6.1784 - val_acc: 0.8500\n",
      "Epoch 7/15\n",
      " - 0s - loss: 5.8279 - acc: 0.8733 - val_loss: 5.4960 - val_acc: 0.8700\n",
      "Epoch 8/15\n",
      " - 0s - loss: 5.1662 - acc: 0.8883 - val_loss: 4.8709 - val_acc: 0.8733\n",
      "Epoch 9/15\n",
      " - 0s - loss: 4.5639 - acc: 0.9033 - val_loss: 4.3347 - val_acc: 0.8500\n",
      "Epoch 10/15\n",
      " - 0s - loss: 4.0447 - acc: 0.9017 - val_loss: 3.8602 - val_acc: 0.8650\n",
      "Epoch 11/15\n",
      " - 0s - loss: 3.6184 - acc: 0.8883 - val_loss: 3.4366 - val_acc: 0.8700\n",
      "Epoch 12/15\n",
      " - 0s - loss: 3.2241 - acc: 0.8750 - val_loss: 3.0782 - val_acc: 0.8567\n",
      "Epoch 13/15\n",
      " - 0s - loss: 2.8608 - acc: 0.8967 - val_loss: 2.8450 - val_acc: 0.7817\n",
      "Epoch 14/15\n",
      " - 0s - loss: 2.5618 - acc: 0.8967 - val_loss: 2.5092 - val_acc: 0.8400\n",
      "Epoch 15/15\n",
      " - 0s - loss: 2.2950 - acc: 0.9000 - val_loss: 2.2334 - val_acc: 0.8700\n"
     ]
    },
    {
     "data": {
      "image/png": "[encoded data removed]",
      "text/plain": [
       "<matplotlib.figure.Figure at 0x1817f22cf8>"
      ]
     },
     "metadata": {},
     "output_type": "display_data"
    }
   ],
   "source": [
    "# Train the model and plot training info\n",
    "\n",
    "hist = model.fit(X_train,y_train,\n",
    "    validation_data=(X_test,y_test),\n",
    "    batch_size = 100,\n",
    "    epochs=15,\n",
    "    verbose=2\n",
    "    )\n",
    "plt.plot(hist.history['acc'], label=\"train\")\n",
    "plt.plot(hist.history['val_acc'], label=\"val\")\n",
    "plt.xlabel(\"epoch\")\n",
    "plt.ylabel(\"accuracy\")\n",
    "plt.legend()\n",
    "plt.grid()\n",
    "plt.tight_layout()\n",
    "plt.show()"
   ]
  },
  {
   "cell_type": "code",
   "execution_count": 5,
   "metadata": {},
   "outputs": [],
   "source": [
    "def weights_grad(X,model):\n",
    "    N = X.shape[0]\n",
    "    M = model.output.shape[1]\n",
    "    w = model.trainable_weights\n",
    "    out = model.layers[-2].output \n",
    "    grads = []\n",
    "    for i in range(N): #iterate over the batch\n",
    "        for j in range(M): #iterate over class score\n",
    "            grads.append(k.gradients(out[i,j],w))\n",
    "    sess = tf.InteractiveSession()\n",
    "    sess.run(tf.global_variables_initializer())\n",
    "    grads_evaled = sess.run(grads,feed_dict={model.input:X})\n",
    "    # grads_evaled is is an M*N list of the gradients of the weights.\n",
    "    # each element of this list in another list, that will be something like\n",
    "    # [W1_grad, b1_grad, W2_grad, b2_grad ...]\n",
    "    \n",
    "    scores = sess.run(out,feed_dict={model.input:X})\n",
    "    weights = sess.run(w,feed_dict={model.input:X})\n",
    "    return grads_evaled, scores, weights"
   ]
  },
  {
   "cell_type": "code",
   "execution_count": 6,
   "metadata": {},
   "outputs": [
    {
     "name": "stdout",
     "output_type": "stream",
     "text": [
      "(2, 8192)\n"
     ]
    }
   ],
   "source": [
    "batch_size = 2\n",
    "indices = np.random.choice(range(N_tr), batch_size, replace=True)\n",
    "X_batch = X_train[indices]\n",
    "print(X_batch.shape)\n",
    "grads, scores, weights = weights_grad(X_batch,model)"
   ]
  },
  {
   "cell_type": "code",
   "execution_count": 7,
   "metadata": {},
   "outputs": [
    {
     "name": "stdout",
     "output_type": "stream",
     "text": [
      "(2, 3)\n",
      "4\n",
      "(8192, 10)\n"
     ]
    }
   ],
   "source": [
    "print(scores.shape)\n",
    "print(len(weights))\n",
    "print(weights[0].shape)"
   ]
  },
  {
   "cell_type": "code",
   "execution_count": 9,
   "metadata": {},
   "outputs": [
    {
     "name": "stdout",
     "output_type": "stream",
     "text": [
      "(81963, 3)\n",
      "(2, 3)\n",
      "(2,)\n",
      "(2,)\n",
      "[[0. 0. 1.]\n",
      " [1. 0. 0.]\n",
      " [0. 0. 1.]\n",
      " [1. 0. 0.]\n",
      " [1. 0. 0.]\n",
      " [0. 0. 1.]\n",
      " [0. 1. 0.]\n",
      " [0. 0. 1.]\n",
      " [0. 0. 1.]\n",
      " [1. 0. 0.]]\n",
      "[2 0 2 0 0 2 1 2 2 0]\n",
      "(81963, 1)\n",
      "4\n",
      "(8192, 10)\n"
     ]
    }
   ],
   "source": [
    "## graident processing testing\n",
    "num_params = len(grads[0])\n",
    "num_classes = 3\n",
    "# score_grads = [None]*num_classes\n",
    "# for score_ind in range(num_classes):\n",
    "#     score_grads[score_ind] = [np.zeros_like(grads[0][param]) for param in range(num_params)]\n",
    "\n",
    "# # Sum gradidents across the batch\n",
    "# for ii in range(batch_size):\n",
    "#     for param_ind, class_ind in product(range(num_params),range(num_classes)) :\n",
    "#         score_grads[class_ind][param_ind] += grads[3*ii + class_ind][param_ind]\n",
    "\n",
    "# Make big weight vector for each of the scores\n",
    "num_weights = in_size*10+10+10*3+3\n",
    "for nn in range(batch_size):\n",
    "    g = np.zeros((num_weights,3))\n",
    "    for class_ind in range(num_classes):\n",
    "        g[:,[class_ind]] = np.vstack([param.reshape(-1,1) for param in grads[3*nn + class_ind]])\n",
    "#         for param_ind in range(num_params):\n",
    "#             np.vstack((gc, grads[3*nn + class_ind][param_ind].reshape(-1,1)))\n",
    "#          = gc\n",
    "print(g.shape)\n",
    "\n",
    "ytrain_inds = y_train.argmax(axis=1)\n",
    "print(y_train[indices].shape)\n",
    "print(ytrain_inds[indices].shape)\n",
    "print(indices.shape)\n",
    "print(y_train[0:10])\n",
    "print(ytrain_inds[0:10])\n",
    "\n",
    "wk = np.vstack([param.reshape(-1,1) for param in weights])\n",
    "print(wk.shape)\n",
    "print(len(weights))\n",
    "print(weights[0].shape)"
   ]
  },
  {
   "cell_type": "code",
   "execution_count": null,
   "metadata": {},
   "outputs": [
    {
     "name": "stderr",
     "output_type": "stream",
     "text": [
      "/Users/theodiamandis/anaconda3/envs/cs231n/lib/python3.6/site-packages/tensorflow/python/client/session.py:1711: UserWarning: An interactive session is already active. This can cause out-of-memory errors in some cases. You must explicitly call `InteractiveSession.close()` to release resources held by the other session(s).\n",
      "  warnings.warn('An interactive session is already active. This can '\n"
     ]
    }
   ],
   "source": [
    "## Construct Optimization problem:\n",
    "batch_size = 2\n",
    "num_weights = in_size*10+10+10*3+3\n",
    "\n",
    "indices = np.random.choice(range(N_tr), batch_size, replace=True)\n",
    "X_batch = X_train[indices]\n",
    "true_class = ytrain_inds[indices]\n",
    "grads, scores, weights = weights_grad(X_batch,model)\n",
    "\n",
    "y = scores\n",
    "wk = np.vstack([param.reshape(-1,1) for param in weights])\n",
    "\n",
    "w = cp.Variable((num_weights,1))\n",
    "yhat = cp.Variable((batch_size,num_classes))\n",
    "objective = cp.Minimize(cp.sum(-yhat[np.arange(batch_size),true_class] + cp.log_sum_exp(yhat, axis=1)) + cp.norm(w,2))\n",
    "\n",
    "constraints = []\n",
    "for nn in range(batch_size):\n",
    "    g = np.zeros((num_weights,3))\n",
    "    for class_ind in range(num_classes):\n",
    "        g[:,[class_ind]] = np.vstack([param.reshape(-1,1) for param in grads[3*nn + class_ind]])\n",
    "    constraints += [yhat[[nn],:] == y[[nn],:] + (g.T @ (w - wk)).T]\n",
    "prob = cp.Problem(objective, constraints)\n",
    "\n",
    "# The optimal objective value is returned by `prob.solve()`.\n",
    "result = prob.solve(verbose=True)\n"
   ]
  },
  {
   "cell_type": "code",
   "execution_count": null,
   "metadata": {},
   "outputs": [],
   "source": []
  }
 ],
 "metadata": {
  "kernelspec": {
   "display_name": "Python 3",
   "language": "python",
   "name": "python3"
  },
  "language_info": {
   "codemirror_mode": {
    "name": "ipython",
    "version": 3
   },
   "file_extension": ".py",
   "mimetype": "text/x-python",
   "name": "python",
   "nbconvert_exporter": "python",
   "pygments_lexer": "ipython3",
   "version": "3.6.4"
  }
 },
 "nbformat": 4,
 "nbformat_minor": 2
}
