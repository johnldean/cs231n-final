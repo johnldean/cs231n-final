{
 "cells": [
  {
   "cell_type": "code",
   "execution_count": 1,
   "metadata": {},
   "outputs": [
    {
     "name": "stderr",
     "output_type": "stream",
     "text": [
      "/Users/theodiamandis/anaconda3/envs/cs231n/lib/python3.6/site-packages/h5py/__init__.py:34: FutureWarning: Conversion of the second argument of issubdtype from `float` to `np.floating` is deprecated. In future, it will be treated as `np.float64 == np.dtype(float).type`.\n",
      "  from ._conv import register_converters as _register_converters\n",
      "Using TensorFlow backend.\n"
     ]
    }
   ],
   "source": [
    "from keras import applications\n",
    "from keras.preprocessing.image import ImageDataGenerator\n",
    "from keras import optimizers\n",
    "from keras.models import Sequential, Model \n",
    "from keras.layers import Dropout, Flatten, Dense, GlobalAveragePooling2D\n",
    "from keras import backend as k \n",
    "from keras.callbacks import ModelCheckpoint, LearningRateScheduler, TensorBoard, EarlyStopping\n",
    "from keras.layers import Dense, Activation\n",
    "from keras import regularizers\n",
    "from keras.losses import categorical_hinge\n",
    "import tensorflow as tf\n",
    "import keras as ke\n",
    "import matplotlib.pyplot as plt\n",
    "import numpy as np\n",
    "import keras\n",
    "import cvxpy as cp"
   ]
  },
  {
   "cell_type": "code",
   "execution_count": 2,
   "metadata": {},
   "outputs": [],
   "source": [
    "sess = tf.InteractiveSession()\n",
    "k.set_session(sess)"
   ]
  },
  {
   "cell_type": "code",
   "execution_count": 4,
   "metadata": {},
   "outputs": [],
   "source": [
    "load_dir = \"assets/car-rocket-ship/imnet_nofc/VGG19/128x128/\"\n",
    "model_dir = \"assets/models/\"\n",
    "X_train = np.load(load_dir + 'X_train.npy')\n",
    "y_train = np.load(load_dir + 'y_train.npy')\n",
    "X_test = np.load(load_dir + 'X_test.npy')\n",
    "y_test = np.load(load_dir + 'y_test.npy')\n",
    "N_tr = X_train.shape[0]\n",
    "N_te = X_test.shape[0]\n",
    "X_train = X_train.reshape(N_tr,-1)\n",
    "X_test = X_test.reshape(N_te,-1)\n",
    "in_size = X_train.shape[1]\n"
   ]
  },
  {
   "cell_type": "code",
   "execution_count": 5,
   "metadata": {},
   "outputs": [],
   "source": [
    "def weights_grad(X,model):\n",
    "    global sess\n",
    "    N = X.shape[0]\n",
    "    M = model.output.shape[1]\n",
    "    w = model.trainable_weights\n",
    "    out = model.layers[-1].output \n",
    "    grads = []\n",
    "    for i in range(N): #iterate over the batch\n",
    "        for j in range(M): #iterate over class score\n",
    "            grads.append(k.gradients(out[i,j],w))\n",
    "    grads_evaled,scores,weights = sess.run((grads,out,w),feed_dict={model.input:X})\n",
    "    # grads_evaled is is an M*N list of the gradients of the weights.\n",
    "    # each element of this list in another list, that will be something like\n",
    "    # [W1_grad, b1_grad, W2_grad, b2_grad ...]\n",
    "    return grads_evaled, scores, weights"
   ]
  },
  {
   "cell_type": "code",
   "execution_count": 6,
   "metadata": {},
   "outputs": [],
   "source": [
    "reg = 0.01\n",
    "random_model = Sequential([\n",
    "        Dense(50,input_shape=(in_size,),kernel_regularizer=regularizers.l2(reg)),\n",
    "        Activation('relu'),\n",
    "        #Dropout(0.3),\n",
    "        Dense(10,kernel_regularizer=regularizers.l2(reg)),\n",
    "        Activation('relu'),\n",
    "        #Dropout(0.3),\n",
    "        Dense(3,kernel_regularizer=regularizers.l2(reg)),\n",
    "        #Activation('softmax')\n",
    "        ])\n",
    "\n",
    "model = keras.models.load_model(model_dir + \"tfnet_crs_50-10-3\")\n",
    "g,y,_ = weights_grad(X_train[0:2,:],model)"
   ]
  },
  {
   "cell_type": "code",
   "execution_count": 8,
   "metadata": {},
   "outputs": [
    {
     "name": "stdout",
     "output_type": "stream",
     "text": [
      "<keras.layers.core.Dense object at 0x182cbb9240>\n",
      "<keras.layers.core.Activation object at 0x182cbb9438>\n",
      "<keras.layers.core.Dense object at 0x182cbb9630>\n",
      "<keras.layers.core.Activation object at 0x182cbcbc18>\n",
      "<keras.layers.core.Dense object at 0x182cbcbac8>\n"
     ]
    }
   ],
   "source": [
    "for layer in model.layers:\n",
    "    print(layer)\n",
    "\n",
    "model.layers[0].trainable = False\n",
    "model.layers[2].set_weights(random_model.layers[2].get_weights())\n",
    "model.layers[4].set_weights(random_model.layers[4].get_weights())\n",
    "model.compile(loss = \"categorical_hinge\", optimizer = optimizers.SGD(lr=0.001, momentum=0.9), metrics=[\"accuracy\"])\n",
    "g,y,_ = weights_grad(X_train[0:2,:],model)\n"
   ]
  },
  {
   "cell_type": "code",
   "execution_count": 9,
   "metadata": {},
   "outputs": [],
   "source": [
    "batch_size = 20\n",
    "num_weights = 50*10+10+10*3+3\n",
    "num_classes = 3\n",
    "w1_shape = (50,10)\n",
    "b1_shape = (10)\n",
    "w2_shape = (10,3)\n",
    "b2_shape = (3)"
   ]
  },
  {
   "cell_type": "code",
   "execution_count": 11,
   "metadata": {},
   "outputs": [
    {
     "name": "stdout",
     "output_type": "stream",
     "text": [
      "PREPAIRING\n",
      "SETTING UP CONVEX PROBLEM\n",
      "LEGGO\n",
      "Current Loss:  20.0\n",
      "SOLVED!, l =  57.999999999577796\n",
      "PREPAIRING\n",
      "SETTING UP CONVEX PROBLEM\n",
      "LEGGO\n",
      "Current Loss:  30.0\n",
      "SOLVED!, l =  74.999999997242\n",
      "PREPAIRING\n",
      "SETTING UP CONVEX PROBLEM\n",
      "LEGGO\n",
      "Current Loss:  30.0\n",
      "SOLVED!, l =  74.9999999983909\n",
      "PREPAIRING\n",
      "SETTING UP CONVEX PROBLEM\n",
      "LEGGO\n",
      "Current Loss:  30.0\n",
      "SOLVED!, l =  74.99999999897398\n",
      "PREPAIRING\n",
      "SETTING UP CONVEX PROBLEM\n",
      "LEGGO\n",
      "Current Loss:  30.0\n",
      "SOLVED!, l =  74.99999999928171\n",
      "PREPAIRING\n",
      "SETTING UP CONVEX PROBLEM\n",
      "LEGGO\n",
      "Current Loss:  30.0\n",
      "SOLVED!, l =  74.9999999994535\n",
      "PREPAIRING\n",
      "SETTING UP CONVEX PROBLEM\n",
      "LEGGO\n",
      "Current Loss:  30.0\n",
      "SOLVED!, l =  74.99999999955669\n",
      "PREPAIRING\n",
      "SETTING UP CONVEX PROBLEM\n",
      "LEGGO\n",
      "Current Loss:  30.0\n",
      "SOLVED!, l =  74.9999999996241\n",
      "PREPAIRING\n",
      "SETTING UP CONVEX PROBLEM\n",
      "LEGGO\n",
      "Current Loss:  30.0\n",
      "SOLVED!, l =  74.99999999967183\n",
      "PREPAIRING\n",
      "SETTING UP CONVEX PROBLEM\n",
      "LEGGO\n",
      "Current Loss:  30.0\n",
      "SOLVED!, l =  74.999999999708\n"
     ]
    }
   ],
   "source": [
    "indices = np.random.choice(range(N_tr), batch_size, replace=True)\n",
    "for i in range(10):\n",
    "    print(\"PREPAIRING\")\n",
    "    ytrain_inds = y_train.argmax(axis=1)\n",
    "    X_batch = X_train[indices]\n",
    "    true_class = ytrain_inds[indices]\n",
    "    grads, scores, weights = weights_grad(X_batch,model)\n",
    "    gstack = np.zeros((num_weights,num_classes*batch_size))\n",
    "    for nn in range(batch_size):\n",
    "        for class_ind in range(num_classes):\n",
    "            gstack[:,[nn*num_classes + class_ind]] = np.vstack([param.reshape(-1,1) for param in (grads[3*nn + class_ind])])\n",
    "    #print(gstack.shape)    \n",
    "\n",
    "    y = scores\n",
    "\n",
    "    keras_l =  np.sum(k.eval(categorical_hinge(y_train[indices,:],y)))\n",
    "    #print(y)\n",
    "    #print(y.reshape((-1,1)))\n",
    "    wk = np.vstack([param.reshape(-1,1) for param in weights])\n",
    "\n",
    "    print(\"SETTING UP CONVEX PROBLEM\")\n",
    "    w = cp.Variable((num_weights,1))\n",
    "    #yhat = cp.Variable((batch_size,num_classes))\n",
    "    #const = [yhat == y + cp.reshape((gstack.T@(w - wk)),(batch_size,num_classes))]\n",
    "    const = []\n",
    "    yhat = y + cp.reshape((gstack.T@(w - wk)),(batch_size,num_classes))\n",
    "    #f = cp.sum(-yhat[np.arange(batch_size),true_class] + cp.log_sum_exp(yhat, axis=1)) + cp.norm(w,2)\n",
    "    f = cp.sum(cp.pos(yhat - yhat[np.arange(batch_size),[true_class]].T@np.ones((1,3)) + 1)) + 10*cp.norm(w,1) + 1*cp.norm(w-wk,1)\n",
    "    objective = cp.Minimize(f)\n",
    "    prob = cp.Problem(objective, const)\n",
    "    print(\"LEGGO\")\n",
    "    # r = prob.solve(solver=\"SCS\",verbose=False)\n",
    "    r = prob.solve(verbose=False)\n",
    "    print(\"Current Loss: \",keras_l)\n",
    "    print(\"SOLVED!, l = \",r)\n",
    "    w_new = w.value\n",
    "    shapes=grads[0]\n",
    "    ind = 0\n",
    "    w_ = []\n",
    "    #print(w_new.shape)\n",
    "    for sh in shapes:\n",
    "        w_.append(w_new[ind:ind+sh.size].reshape(sh.shape))\n",
    "        ind += sh.size\n",
    "    #print(w_[2][0,0],model.layers[4].get_weights()[0][0,0])\n",
    "    model.layers[2].set_weights(w_[0:2])\n",
    "    model.layers[4].set_weights(w_[2:4])\n",
    "    model.compile(loss = \"categorical_hinge\", optimizer = optimizers.SGD(lr=0.001, momentum=0.9), metrics=[\"accuracy\"])\n"
   ]
  },
  {
   "cell_type": "code",
   "execution_count": null,
   "metadata": {},
   "outputs": [],
   "source": []
  }
 ],
 "metadata": {
  "kernelspec": {
   "display_name": "Python 3",
   "language": "python",
   "name": "python3"
  },
  "language_info": {
   "codemirror_mode": {
    "name": "ipython",
    "version": 3
   },
   "file_extension": ".py",
   "mimetype": "text/x-python",
   "name": "python",
   "nbconvert_exporter": "python",
   "pygments_lexer": "ipython3",
   "version": "3.6.4"
  }
 },
 "nbformat": 4,
 "nbformat_minor": 2
}
